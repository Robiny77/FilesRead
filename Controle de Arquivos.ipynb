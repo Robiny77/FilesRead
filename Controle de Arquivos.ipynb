{
 "cells": [
  {
   "cell_type": "code",
   "execution_count": 76,
   "metadata": {},
   "outputs": [],
   "source": [
    "import os\n",
    "import pandas as pd"
   ]
  },
  {
   "cell_type": "code",
   "execution_count": 52,
   "metadata": {},
   "outputs": [],
   "source": [
    "# pasta = 'X:/Geral/Financeiro/Pagamentos/04-Lançamento Financeiro - DP/2021'\n",
    "pasta = 'C:/Users/a3arr0s\\OneDrive/02_PESSOAL/ARTIC Business/Financeiro'\n"
   ]
  },
  {
   "cell_type": "code",
   "execution_count": 53,
   "metadata": {},
   "outputs": [
    {
     "name": "stdout",
     "output_type": "stream",
     "text": [
      "DataFrame is written successfully to Excel File.\n"
     ]
    }
   ],
   "source": [
    "final = []\n",
    "\n",
    "for diretorio, subpastas, arquivos in os.walk(pasta):\n",
    "    for arquivo in arquivos:\n",
    "        final.append(arquivo)\n",
    "\n",
    "final = pd.DataFrame(final)\n",
    "final.columns = [\"Filename\"]\n",
    "\n",
    "final\n",
    "\n",
    "# create excel writer object\n",
    "writer = pd.ExcelWriter('filenames.xlsx')\n",
    "# write dataframe to excel\n",
    "final.to_excel(writer)\n",
    "# save the excel\n",
    "writer.save()\n",
    "print('DataFrame is written successfully to Excel File.')\n"
   ]
  },
  {
   "cell_type": "code",
   "execution_count": null,
   "metadata": {},
   "outputs": [],
   "source": []
  }
 ],
 "metadata": {
  "kernelspec": {
   "display_name": "Python 3",
   "language": "python",
   "name": "python3"
  },
  "language_info": {
   "codemirror_mode": {
    "name": "ipython",
    "version": 3
   },
   "file_extension": ".py",
   "mimetype": "text/x-python",
   "name": "python",
   "nbconvert_exporter": "python",
   "pygments_lexer": "ipython3",
   "version": "3.8.5"
  }
 },
 "nbformat": 4,
 "nbformat_minor": 4
}
