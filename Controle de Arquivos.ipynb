{
 "cells": [
  {
   "cell_type": "code",
   "execution_count": 76,
   "metadata": {},
   "outputs": [],
   "source": [
    "import os\n",
    "import xlsxwriter "
   ]
  },
  {
   "cell_type": "code",
   "execution_count": 77,
   "metadata": {},
   "outputs": [],
   "source": [
    "pasta = 'X:/Geral/Financeiro/Pagamentos/04-Lançamento Financeiro - DP/2021'"
   ]
  },
  {
   "cell_type": "code",
   "execution_count": 78,
   "metadata": {},
   "outputs": [
    {
     "name": "stdout",
     "output_type": "stream",
     "text": [
      "2021-12-01-SJH-Liquido Salarial.PDF\n",
      "2021-12-07-SJH-Guia FGTS.pdf\n",
      "2021-12-10-SJH-CCT PQEX2021.pdf\n",
      "2021-12-10-SJH-Plano de Saúde-Boleto.pdf\n",
      "2021-12-10-SJH-Plano de Saúde-Demonstrativo.pdf\n",
      "2021-12-10-SJH-Plano de Saúde-Detalhamento.pdf\n",
      "2021-12-20-SJH-Guia INSS-13º.pdf\n",
      "2021-12-20-SJH-Guia INSS.pdf\n",
      "2021-12-20-SJH-Vale Alimentação-Boleto.pdf\n",
      "2021-12-20-SJH-Vale Alimentação-Demonstrativo.pdf\n",
      "2021-12-20-SJH-Vale Alimentação-Detalhamento.pdf\n",
      "2021-12-20-SJH-Vale Alimentação-Detalhamento1.pdf\n",
      "2021-12-10-MAV-Plano de Saúde-Boleto.pdf\n",
      "2021-12-10-MAV-Plano de Saúde-Demonstrativo.pdf\n",
      "2021-12-10-MAV-Plano de Saúde-Detalhamento.pdf\n",
      "2021-12-01-THO-Guia FGTS-Rodrigo.pdf\n",
      "2021-12-01-THO-Liquido Salarial.PDF\n",
      "2021-12-01-THO-Líquido Rescisão-Rodrigo(COMPROVANTE).pdf\n",
      "2021-12-01-THO-Líquido Rescisão-Rodrigo.PDF\n",
      "2021-12-07-THO-Guia FGTS.pdf\n",
      "2021-12-10-THO-Guia FGTS-Alexandre.pdf\n",
      "2021-12-10-THO-Líquido Rescisão-Alexandre.PDF\n",
      "2021-12-10-THO-Plano de Sáude-Boleto 1.pdf\n",
      "2021-12-10-THO-Plano de Sáude-Boleto.pdf\n",
      "2021-12-10-THO-Plano de Sáude-Demonstrativo.pdf\n",
      "2021-12-10-THO-Plano de Sáude-Detalhamento.pdf\n",
      "2021-12-20-THO-Guia FGTS-Alexandre-Recalculada.pdf\n",
      "2021-12-20-THO-Guia INSS-13º.pdf\n",
      "2021-12-20-THO-Guia INSS.pdf\n",
      "2021-12-20-THO-Guia IRRF-Antonio.pdf\n",
      "2021-12-01-SJK-Liquido Salarial.PDF\n",
      "2021-12-07-SJK-Guia FGTS.pdf\n",
      "2021-12-20-SJK-Guia INSS-13º.pdf\n",
      "2021-12-20-SJK-Guia INSS.pdf\n",
      "2021-12-20-SJK-Vale Refeição-Boleto.pdf\n",
      "2021-12-20-SJK-Vale Refeição-Demonstrativo.pdf\n",
      "2021-12-20-SJK-Vale Refeição-Detalhamento.pdf\n",
      "2021-12-20-SJK-Vale Refeição-Detalhamento1.pdf\n",
      "2021-12-20-GEN-Guia INSS-13º.pdf\n",
      "2021-12-20-GEN-Guia INSS.pdf\n",
      "2021-12-20-GEN-Liquido Salarial.PDF\n",
      "2021-12-20-GEN-Vale Transporte Transfácil-Boleto.pdf\n",
      "2021-12-20-GEN-Vale Transporte Transfácil-Demonstrativo.pdf\n",
      "2021-12-20-GEN-Vale Transporte Transfácil-Detalhamento.pdf\n",
      "2021-12-20-GEN-Vale Transporte Ótimo-Boleto.pdf\n",
      "2021-12-20-GEN-Vale Transporte Ótimo-Demonstrativo.pdf\n",
      "2021-12-20-GEN-Vale Transporte Ótimo-Detalhamento.pdf\n",
      "2021-12-01-ZEO-Liquido Salarial.PDF\n",
      "2021-12-07-ZEO-Guia FGTS.pdf\n",
      "2021-12-20-ZEO-Guia FGTS-Jose.pdf\n",
      "2021-12-20-ZEO-Guia INSS.pdf\n",
      "2021-12-20-ZEO-Líquido Rescisão-Jose.PDF\n"
     ]
    }
   ],
   "source": [
    "x = \"\"\n",
    "\n",
    "for diretorio, subpastas, arquivos in os.walk(pasta):\n",
    "    for arquivo in arquivos:\n",
    "        print (arquivo)"
   ]
  },
  {
   "cell_type": "code",
   "execution_count": 79,
   "metadata": {},
   "outputs": [
    {
     "name": "stdout",
     "output_type": "stream",
     "text": [
      "['', 'DP/2021\\\\01_SJH\\\\12_Dezembro\\\\01-09']\n",
      "['', 'DP/2021\\\\01_SJH\\\\12_Dezembro\\\\01-09']\n",
      "['', 'DP/2021\\\\01_SJH\\\\12_Dezembro\\\\10-19']\n",
      "['', 'DP/2021\\\\01_SJH\\\\12_Dezembro\\\\10-19']\n",
      "['', 'DP/2021\\\\01_SJH\\\\12_Dezembro\\\\10-19']\n",
      "['', 'DP/2021\\\\01_SJH\\\\12_Dezembro\\\\10-19']\n",
      "['', 'DP/2021\\\\01_SJH\\\\12_Dezembro\\\\20-31']\n",
      "['', 'DP/2021\\\\01_SJH\\\\12_Dezembro\\\\20-31']\n",
      "['', 'DP/2021\\\\01_SJH\\\\12_Dezembro\\\\20-31']\n",
      "['', 'DP/2021\\\\01_SJH\\\\12_Dezembro\\\\20-31']\n",
      "['', 'DP/2021\\\\01_SJH\\\\12_Dezembro\\\\20-31']\n",
      "['', 'DP/2021\\\\01_SJH\\\\12_Dezembro\\\\20-31']\n",
      "['', 'DP/2021\\\\04_MAVE\\\\12_Dezembro\\\\10-19']\n",
      "['', 'DP/2021\\\\04_MAVE\\\\12_Dezembro\\\\10-19']\n",
      "['', 'DP/2021\\\\04_MAVE\\\\12_Dezembro\\\\10-19']\n",
      "['', 'DP/2021\\\\06_THOOR\\\\12_Dezembro\\\\01-09']\n",
      "['', 'DP/2021\\\\06_THOOR\\\\12_Dezembro\\\\01-09']\n",
      "['', 'DP/2021\\\\06_THOOR\\\\12_Dezembro\\\\01-09']\n",
      "['', 'DP/2021\\\\06_THOOR\\\\12_Dezembro\\\\01-09']\n",
      "['', 'DP/2021\\\\06_THOOR\\\\12_Dezembro\\\\01-09']\n",
      "['', 'DP/2021\\\\06_THOOR\\\\12_Dezembro\\\\10-19']\n",
      "['', 'DP/2021\\\\06_THOOR\\\\12_Dezembro\\\\10-19']\n",
      "['', 'DP/2021\\\\06_THOOR\\\\12_Dezembro\\\\10-19']\n",
      "['', 'DP/2021\\\\06_THOOR\\\\12_Dezembro\\\\10-19']\n",
      "['', 'DP/2021\\\\06_THOOR\\\\12_Dezembro\\\\10-19']\n",
      "['', 'DP/2021\\\\06_THOOR\\\\12_Dezembro\\\\10-19']\n",
      "['', 'DP/2021\\\\06_THOOR\\\\12_Dezembro\\\\20-31']\n",
      "['', 'DP/2021\\\\06_THOOR\\\\12_Dezembro\\\\20-31']\n",
      "['', 'DP/2021\\\\06_THOOR\\\\12_Dezembro\\\\20-31']\n",
      "['', 'DP/2021\\\\06_THOOR\\\\12_Dezembro\\\\20-31']\n",
      "['', 'DP/2021\\\\18_SJK\\\\12_Dezembro\\\\01-09']\n",
      "['', 'DP/2021\\\\18_SJK\\\\12_Dezembro\\\\01-09']\n",
      "['', 'DP/2021\\\\18_SJK\\\\12_Dezembro\\\\20-31']\n",
      "['', 'DP/2021\\\\18_SJK\\\\12_Dezembro\\\\20-31']\n",
      "['', 'DP/2021\\\\18_SJK\\\\12_Dezembro\\\\20-31']\n",
      "['', 'DP/2021\\\\18_SJK\\\\12_Dezembro\\\\20-31']\n",
      "['', 'DP/2021\\\\18_SJK\\\\12_Dezembro\\\\20-31']\n",
      "['', 'DP/2021\\\\18_SJK\\\\12_Dezembro\\\\20-31']\n",
      "['', 'DP/2021\\\\19_GENESIS\\\\12_Dezembro\\\\20-31']\n",
      "['', 'DP/2021\\\\19_GENESIS\\\\12_Dezembro\\\\20-31']\n",
      "['', 'DP/2021\\\\19_GENESIS\\\\12_Dezembro\\\\20-31']\n",
      "['', 'DP/2021\\\\19_GENESIS\\\\12_Dezembro\\\\20-31']\n",
      "['', 'DP/2021\\\\19_GENESIS\\\\12_Dezembro\\\\20-31']\n",
      "['', 'DP/2021\\\\19_GENESIS\\\\12_Dezembro\\\\20-31']\n",
      "['', 'DP/2021\\\\19_GENESIS\\\\12_Dezembro\\\\20-31']\n",
      "['', 'DP/2021\\\\19_GENESIS\\\\12_Dezembro\\\\20-31']\n",
      "['', 'DP/2021\\\\19_GENESIS\\\\12_Dezembro\\\\20-31']\n",
      "['', 'DP/2021\\\\23_ZEOOS\\\\12_Dezembro\\\\01-09']\n",
      "['', 'DP/2021\\\\23_ZEOOS\\\\12_Dezembro\\\\01-09']\n",
      "['', 'DP/2021\\\\23_ZEOOS\\\\12_Dezembro\\\\20-31']\n",
      "['', 'DP/2021\\\\23_ZEOOS\\\\12_Dezembro\\\\20-31']\n",
      "['', 'DP/2021\\\\23_ZEOOS\\\\12_Dezembro\\\\20-31']\n"
     ]
    }
   ],
   "source": [
    "for diretorio, subpastas, arquivos in os.walk(pasta):\n",
    "    for arquivo in arquivos:\n",
    "        print(diretorio.split(\"X:/Geral/Financeiro/Pagamentos/04-Lançamento Financeiro - \"))"
   ]
  },
  {
   "cell_type": "code",
   "execution_count": 80,
   "metadata": {},
   "outputs": [
    {
     "name": "stdout",
     "output_type": "stream",
     "text": [
      "X:/Geral/Financeiro/Pagamentos/04-Lançamento Financeiro - DP/2021\n"
     ]
    }
   ],
   "source": [
    "print (pasta)"
   ]
  },
  {
   "cell_type": "code",
   "execution_count": 81,
   "metadata": {},
   "outputs": [
    {
     "name": "stdout",
     "output_type": "stream",
     "text": [
      "1645034498.3130221\n",
      "1645034586.604565\n",
      "1645034597.8361993\n",
      "1645034609.632527\n",
      "1645034622.8974943\n",
      "1645034648.0432036\n",
      "1645034659.8016133\n",
      "1645034673.7433276\n",
      "1645034686.6160748\n",
      "1645034698.4814057\n",
      "1645034711.8435678\n",
      "1645034723.4715781\n",
      "1645034764.5192907\n",
      "1645034776.7722185\n",
      "1645034788.1709812\n",
      "1645034800.268553\n",
      "1645034813.7034197\n",
      "1645034826.2010477\n",
      "1645034841.3831446\n"
     ]
    }
   ],
   "source": [
    "from pathlib import Path\n",
    "current_dir = Path('X:/Geral/Financeiro/Pagamentos/04-Lançamento Financeiro - DP/2021/')\n",
    "for path in current_dir.iterdir():\n",
    "    info = path.stat()\n",
    "    print(info.st_mtime)"
   ]
  },
  {
   "cell_type": "code",
   "execution_count": 82,
   "metadata": {},
   "outputs": [
    {
     "data": {
      "text/plain": [
       "['2021-12-20-ZEO-Guia FGTS-Jose.pdf',\n",
       " '2021-12-20-ZEO-Guia INSS.pdf',\n",
       " '2021-12-20-ZEO-Líquido Rescisão-Jose.PDF']"
      ]
     },
     "execution_count": 82,
     "metadata": {},
     "output_type": "execute_result"
    }
   ],
   "source": [
    "arquivos"
   ]
  },
  {
   "cell_type": "code",
   "execution_count": 83,
   "metadata": {},
   "outputs": [
    {
     "data": {
      "text/plain": [
       "'2021-12-20-ZEO-Líquido Rescisão-Jose.PDF'"
      ]
     },
     "execution_count": 83,
     "metadata": {},
     "output_type": "execute_result"
    }
   ],
   "source": [
    "arquivo"
   ]
  },
  {
   "cell_type": "code",
   "execution_count": null,
   "metadata": {},
   "outputs": [],
   "source": []
  }
 ],
 "metadata": {
  "kernelspec": {
   "display_name": "Python 3",
   "language": "python",
   "name": "python3"
  },
  "language_info": {
   "codemirror_mode": {
    "name": "ipython",
    "version": 3
   },
   "file_extension": ".py",
   "mimetype": "text/x-python",
   "name": "python",
   "nbconvert_exporter": "python",
   "pygments_lexer": "ipython3",
   "version": "3.8.5"
  }
 },
 "nbformat": 4,
 "nbformat_minor": 4
}
